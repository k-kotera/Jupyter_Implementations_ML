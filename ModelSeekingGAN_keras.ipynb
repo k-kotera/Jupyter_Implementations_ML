{
  "nbformat": 4,
  "nbformat_minor": 0,
  "metadata": {
    "colab": {
      "name": "ModelSeeking_cDCGAN.ipynb",
      "version": "0.3.2",
      "provenance": [],
      "collapsed_sections": [],
      "include_colab_link": true
    },
    "kernelspec": {
      "name": "python3",
      "display_name": "Python 3"
    },
    "accelerator": "GPU"
  },
  "cells": [
    {
      "cell_type": "markdown",
      "metadata": {
        "id": "view-in-github",
        "colab_type": "text"
      },
      "source": [
        "<a href=\"https://colab.research.google.com/github/k-kotera/Jupyter_Implementations_ML/blob/master/ModelSeekingGAN_keras.ipynb\" target=\"_parent\"><img src=\"https://colab.research.google.com/assets/colab-badge.svg\" alt=\"Open In Colab\"/></a>"
      ]
    },
    {
      "metadata": {
        "id": "NWXyYONt-zSC",
        "colab_type": "text"
      },
      "cell_type": "markdown",
      "source": [
        "# Mode Seeking Generative Adversarial Networks for Diverse Image Synthesis\n",
        "\n",
        "#### 参考\n",
        "Qi Mao, Hsin-Ying Lee, Hung-Yu Tseng, Siwei Ma, Ming-Hsuan Yang.\n",
        "Mode Seeking Generative Adversarial Networks for Diverse Image Synthesis.\n",
        "https://arxiv.org/pdf/1903.05628v1.pdf"
      ]
    },
    {
      "metadata": {
        "id": "O_idq2xHPIV6",
        "colab_type": "code",
        "colab": {
          "base_uri": "https://localhost:8080/",
          "height": 34
        },
        "outputId": "69aa9e1b-b547-4a65-8e7a-f54388de5681"
      },
      "cell_type": "code",
      "source": [
        "from keras.datasets import cifar10\n",
        "from keras.layers import Input, Dense, Reshape, Flatten, Dropout, concatenate, Lambda\n",
        "from keras.layers import BatchNormalization, Activation, ZeroPadding2D\n",
        "from keras.layers.advanced_activations import LeakyReLU\n",
        "from keras.layers.convolutional import UpSampling2D, Conv2D, Conv2DTranspose\n",
        "from keras.models import Sequential, Model\n",
        "from keras.optimizers import Adam\n",
        "from keras.utils import to_categorical\n",
        "from keras import backend as K\n",
        "\n",
        "import numpy as np\n",
        "import matplotlib.pyplot as plt\n",
        "from tqdm import tqdm\n",
        "import warnings\n",
        "warnings.filterwarnings('ignore')"
      ],
      "execution_count": 1,
      "outputs": [
        {
          "output_type": "stream",
          "text": [
            "Using TensorFlow backend.\n"
          ],
          "name": "stderr"
        }
      ]
    },
    {
      "metadata": {
        "id": "slp6-yWrPg3c",
        "colab_type": "code",
        "colab": {}
      },
      "cell_type": "code",
      "source": [
        "#parameters\n",
        "batch_size = 100\n",
        "latent_dim = 100\n",
        "condition_dim = 10# =num_of_classes\n",
        "Height = 32\n",
        "Width = 32\n",
        "Channels = 3"
      ],
      "execution_count": 0,
      "outputs": []
    },
    {
      "metadata": {
        "id": "T2gvXCeNPjsQ",
        "colab_type": "code",
        "colab": {
          "base_uri": "https://localhost:8080/",
          "height": 68
        },
        "outputId": "2006b386-5dd5-4329-e47e-5941883c49f8"
      },
      "cell_type": "code",
      "source": [
        "#Generator_model\n",
        "in_h = int(Height / 4)\n",
        "in_w = int(Width / 4)\n",
        "\n",
        "# latent vector input\n",
        "generator_input1 = Input(shape=(latent_dim,))\n",
        "# condition input\n",
        "generator_input2 = Input(shape=(condition_dim,))\n",
        "generator_input2_copy = Activation('linear')(generator_input2)\n",
        "# concat 2 inputs\n",
        "generator_input = concatenate([generator_input1, generator_input2])\n",
        "\n",
        "x = Dense(in_h * in_w * 128, activation='tanh', name='g_dense1')(generator_input)\n",
        "x = BatchNormalization()(x)\n",
        "x = Reshape((in_h, in_w, 128))(x)\n",
        "\n",
        "x = Conv2DTranspose(64, kernel_size=4, strides=2, padding='same')(x)\n",
        "x = BatchNormalization()(x)\n",
        "\n",
        "x = Conv2DTranspose(3, kernel_size=4, strides=2, padding='same')(x)\n",
        "x = Activation('tanh')(x)\n",
        "\n",
        "Generator = Model(inputs=[generator_input1, generator_input2], outputs=[x, generator_input2_copy], name=\"Generator\")"
      ],
      "execution_count": 3,
      "outputs": [
        {
          "output_type": "stream",
          "text": [
            "WARNING:tensorflow:From /usr/local/lib/python3.6/dist-packages/tensorflow/python/framework/op_def_library.py:263: colocate_with (from tensorflow.python.framework.ops) is deprecated and will be removed in a future version.\n",
            "Instructions for updating:\n",
            "Colocations handled automatically by placer.\n"
          ],
          "name": "stdout"
        }
      ]
    },
    {
      "metadata": {
        "id": "BiJScBgGX7Z2",
        "colab_type": "code",
        "outputId": "8769ccf3-2111-403b-ce0e-b8e861525add",
        "colab": {
          "base_uri": "https://localhost:8080/",
          "height": 527
        }
      },
      "cell_type": "code",
      "source": [
        "Generator.summary()"
      ],
      "execution_count": 4,
      "outputs": [
        {
          "output_type": "stream",
          "text": [
            "__________________________________________________________________________________________________\n",
            "Layer (type)                    Output Shape         Param #     Connected to                     \n",
            "==================================================================================================\n",
            "input_1 (InputLayer)            (None, 100)          0                                            \n",
            "__________________________________________________________________________________________________\n",
            "input_2 (InputLayer)            (None, 10)           0                                            \n",
            "__________________________________________________________________________________________________\n",
            "concatenate_1 (Concatenate)     (None, 110)          0           input_1[0][0]                    \n",
            "                                                                 input_2[0][0]                    \n",
            "__________________________________________________________________________________________________\n",
            "g_dense1 (Dense)                (None, 8192)         909312      concatenate_1[0][0]              \n",
            "__________________________________________________________________________________________________\n",
            "batch_normalization_1 (BatchNor (None, 8192)         32768       g_dense1[0][0]                   \n",
            "__________________________________________________________________________________________________\n",
            "reshape_1 (Reshape)             (None, 8, 8, 128)    0           batch_normalization_1[0][0]      \n",
            "__________________________________________________________________________________________________\n",
            "conv2d_transpose_1 (Conv2DTrans (None, 16, 16, 64)   131136      reshape_1[0][0]                  \n",
            "__________________________________________________________________________________________________\n",
            "batch_normalization_2 (BatchNor (None, 16, 16, 64)   256         conv2d_transpose_1[0][0]         \n",
            "__________________________________________________________________________________________________\n",
            "conv2d_transpose_2 (Conv2DTrans (None, 32, 32, 3)    3075        batch_normalization_2[0][0]      \n",
            "__________________________________________________________________________________________________\n",
            "activation_2 (Activation)       (None, 32, 32, 3)    0           conv2d_transpose_2[0][0]         \n",
            "__________________________________________________________________________________________________\n",
            "activation_1 (Activation)       (None, 10)           0           input_2[0][0]                    \n",
            "==================================================================================================\n",
            "Total params: 1,076,547\n",
            "Trainable params: 1,060,035\n",
            "Non-trainable params: 16,512\n",
            "__________________________________________________________________________________________________\n"
          ],
          "name": "stdout"
        }
      ]
    },
    {
      "metadata": {
        "id": "uit9fOyuYSyJ",
        "colab_type": "code",
        "colab": {}
      },
      "cell_type": "code",
      "source": [
        "#Discriminator_model\n",
        "\n",
        "discriminator_input1 = Input(shape=(Height, Width, Channels))\n",
        "discriminator_input2 = Input(shape=(condition_dim,))\n",
        "\n",
        "discriminator_input2_r = Reshape((1, 1, condition_dim))(discriminator_input2)\n",
        "discriminator_input2_r = UpSampling2D((Height, Width))(discriminator_input2_r)\n",
        "\n",
        "discriminator_input = concatenate([discriminator_input1, discriminator_input2_r])\n",
        "x = Conv2D(64, kernel_size=4, strides=2, padding='same')(discriminator_input)\n",
        "x = BatchNormalization()(x)\n",
        "x = LeakyReLU(alpha=0.2)(x)\n",
        "x = Conv2D(128, kernel_size=4, strides=2, padding='same')(x)\n",
        "x = BatchNormalization()(x)\n",
        "x = LeakyReLU(alpha=0.2)(x)\n",
        "x = Conv2D(256, kernel_size=4, strides=2, padding='same')(x)\n",
        "x = BatchNormalization()(x)\n",
        "x = LeakyReLU(alpha=0.2)(x)\n",
        "x = Conv2D(256, kernel_size=4, strides=2)(x)\n",
        "x = BatchNormalization()(x)\n",
        "x = LeakyReLU(alpha=0.2)(x)\n",
        "\n",
        "x = Flatten()(x)\n",
        "x = Dense(1, activation='sigmoid')(x)\n",
        "\n",
        "Discriminator = Model(inputs=[discriminator_input1, discriminator_input2], outputs=x)\n",
        "\n",
        "Discriminator.compile(loss='binary_crossentropy',\n",
        "            optimizer='SGD',\n",
        "            metrics=['accuracy'])"
      ],
      "execution_count": 0,
      "outputs": []
    },
    {
      "metadata": {
        "id": "DnIrKjWTMd3_",
        "colab_type": "code",
        "outputId": "d29fb6b5-9ac0-47be-ceb9-e3283fa02232",
        "colab": {
          "base_uri": "https://localhost:8080/",
          "height": 799
        }
      },
      "cell_type": "code",
      "source": [
        "Discriminator.summary()"
      ],
      "execution_count": 6,
      "outputs": [
        {
          "output_type": "stream",
          "text": [
            "__________________________________________________________________________________________________\n",
            "Layer (type)                    Output Shape         Param #     Connected to                     \n",
            "==================================================================================================\n",
            "input_4 (InputLayer)            (None, 10)           0                                            \n",
            "__________________________________________________________________________________________________\n",
            "reshape_2 (Reshape)             (None, 1, 1, 10)     0           input_4[0][0]                    \n",
            "__________________________________________________________________________________________________\n",
            "input_3 (InputLayer)            (None, 32, 32, 3)    0                                            \n",
            "__________________________________________________________________________________________________\n",
            "up_sampling2d_1 (UpSampling2D)  (None, 32, 32, 10)   0           reshape_2[0][0]                  \n",
            "__________________________________________________________________________________________________\n",
            "concatenate_2 (Concatenate)     (None, 32, 32, 13)   0           input_3[0][0]                    \n",
            "                                                                 up_sampling2d_1[0][0]            \n",
            "__________________________________________________________________________________________________\n",
            "conv2d_1 (Conv2D)               (None, 16, 16, 64)   13376       concatenate_2[0][0]              \n",
            "__________________________________________________________________________________________________\n",
            "batch_normalization_3 (BatchNor (None, 16, 16, 64)   256         conv2d_1[0][0]                   \n",
            "__________________________________________________________________________________________________\n",
            "leaky_re_lu_1 (LeakyReLU)       (None, 16, 16, 64)   0           batch_normalization_3[0][0]      \n",
            "__________________________________________________________________________________________________\n",
            "conv2d_2 (Conv2D)               (None, 8, 8, 128)    131200      leaky_re_lu_1[0][0]              \n",
            "__________________________________________________________________________________________________\n",
            "batch_normalization_4 (BatchNor (None, 8, 8, 128)    512         conv2d_2[0][0]                   \n",
            "__________________________________________________________________________________________________\n",
            "leaky_re_lu_2 (LeakyReLU)       (None, 8, 8, 128)    0           batch_normalization_4[0][0]      \n",
            "__________________________________________________________________________________________________\n",
            "conv2d_3 (Conv2D)               (None, 4, 4, 256)    524544      leaky_re_lu_2[0][0]              \n",
            "__________________________________________________________________________________________________\n",
            "batch_normalization_5 (BatchNor (None, 4, 4, 256)    1024        conv2d_3[0][0]                   \n",
            "__________________________________________________________________________________________________\n",
            "leaky_re_lu_3 (LeakyReLU)       (None, 4, 4, 256)    0           batch_normalization_5[0][0]      \n",
            "__________________________________________________________________________________________________\n",
            "conv2d_4 (Conv2D)               (None, 1, 1, 256)    1048832     leaky_re_lu_3[0][0]              \n",
            "__________________________________________________________________________________________________\n",
            "batch_normalization_6 (BatchNor (None, 1, 1, 256)    1024        conv2d_4[0][0]                   \n",
            "__________________________________________________________________________________________________\n",
            "leaky_re_lu_4 (LeakyReLU)       (None, 1, 1, 256)    0           batch_normalization_6[0][0]      \n",
            "__________________________________________________________________________________________________\n",
            "flatten_1 (Flatten)             (None, 256)          0           leaky_re_lu_4[0][0]              \n",
            "__________________________________________________________________________________________________\n",
            "dense_1 (Dense)                 (None, 1)            257         flatten_1[0][0]                  \n",
            "==================================================================================================\n",
            "Total params: 1,721,025\n",
            "Trainable params: 1,719,617\n",
            "Non-trainable params: 1,408\n",
            "__________________________________________________________________________________________________\n"
          ],
          "name": "stdout"
        }
      ]
    },
    {
      "metadata": {
        "id": "gOfFy9iCMkMO",
        "colab_type": "code",
        "colab": {}
      },
      "cell_type": "code",
      "source": [
        "#GAN_model\n",
        "Discriminator.trainable = False\n",
        "gan_input1 = Input(shape=(latent_dim,))\n",
        "gan_input2 = Input(shape=(condition_dim,))\n",
        "gen_img = Generator([gan_input1, gan_input2])\n",
        "gan_output = Discriminator(gen_img)\n",
        "Gan = Model([gan_input1, gan_input2], gan_output)\n",
        "\n",
        "gan_input_half1 = Lambda(lambda x: x[:int(batch_size/2)], output_shape=(latent_dim,))(gan_input1)\n",
        "gan_input_half2 = Lambda(lambda x: x[int(batch_size/2):], output_shape=(latent_dim,))(gan_input1)\n",
        "\n",
        "gen_img_half1 = Lambda(lambda x: x[:int(batch_size/2)], output_shape=(Height,Width,Channels))(gen_img[0])\n",
        "gen_img_half2 = Lambda(lambda x: x[int(batch_size/2):], output_shape=(Height,Width,Channels))(gen_img[0])\n",
        "\n",
        "alpha = 1\n",
        "def gan_loss(y_true, y_pred):\n",
        "    lz = K.mean(K.abs((gen_img_half1 - gen_img_half2)))/K.mean(K.abs((gan_input_half1 - gan_input_half2)))\n",
        "    eps = 1e-6\n",
        "    loss_lz = 1 / (lz + eps)\n",
        "    return K.binary_crossentropy(y_true, y_pred) + alpha*loss_lz\n",
        "\n",
        "Gan.compile(loss=gan_loss,\n",
        "            optimizer='SGD',\n",
        "            metrics=['accuracy'])"
      ],
      "execution_count": 0,
      "outputs": []
    },
    {
      "metadata": {
        "id": "wVsAN0_nQtO7",
        "colab_type": "code",
        "outputId": "3f7137b0-e0a6-41cb-ad0d-91af01a62d21",
        "colab": {
          "base_uri": "https://localhost:8080/",
          "height": 306
        }
      },
      "cell_type": "code",
      "source": [
        "Gan.summary()"
      ],
      "execution_count": 8,
      "outputs": [
        {
          "output_type": "stream",
          "text": [
            "__________________________________________________________________________________________________\n",
            "Layer (type)                    Output Shape         Param #     Connected to                     \n",
            "==================================================================================================\n",
            "input_5 (InputLayer)            (None, 100)          0                                            \n",
            "__________________________________________________________________________________________________\n",
            "input_6 (InputLayer)            (None, 10)           0                                            \n",
            "__________________________________________________________________________________________________\n",
            "Generator (Model)               [(None, 32, 32, 3),  1076547     input_5[0][0]                    \n",
            "                                                                 input_6[0][0]                    \n",
            "__________________________________________________________________________________________________\n",
            "model_1 (Model)                 (None, 1)            1721025     Generator[1][0]                  \n",
            "                                                                 Generator[1][1]                  \n",
            "==================================================================================================\n",
            "Total params: 2,797,572\n",
            "Trainable params: 1,060,035\n",
            "Non-trainable params: 1,737,537\n",
            "__________________________________________________________________________________________________\n"
          ],
          "name": "stdout"
        }
      ]
    },
    {
      "metadata": {
        "id": "qkFvnnvTLnmV",
        "colab_type": "code",
        "colab": {}
      },
      "cell_type": "code",
      "source": [
        "#Load_cifar10dataset\n",
        "(X_train, Y_train), (_, _) = cifar10.load_data()\n",
        "Y_train_c = to_categorical(Y_train, 10)\n",
        "X_train = X_train.reshape((X_train.shape[0],) + (Height, Width, Channels)).astype('float32')\n",
        "X_train = (X_train - 127.5) / 127.5\n",
        "\n",
        "valid_labels = np.ones((batch_size, 1))\n",
        "fake_labels = np.zeros((batch_size, 1))"
      ],
      "execution_count": 0,
      "outputs": []
    },
    {
      "metadata": {
        "id": "rR83sjnbvlT7",
        "colab_type": "code",
        "outputId": "5b0d6491-6c0f-4b41-ca23-5e57aabd36fe",
        "colab": {
          "base_uri": "https://localhost:8080/",
          "height": 34
        }
      },
      "cell_type": "code",
      "source": [
        "#Training\n",
        "for epoch in tqdm(range(10000)):\n",
        "    idx = np.random.randint(0, X_train.shape[0], batch_size)\n",
        "    imgs, labels = X_train[idx], Y_train_c[idx]\n",
        "    random_latent_vectors = np.random.normal(0, 1, (batch_size, latent_dim))\n",
        "    generated_images = Generator.predict([random_latent_vectors, labels])\n",
        "\n",
        "    # Train the discriminator\n",
        "    d_loss_real = Discriminator.train_on_batch([imgs, labels], valid_labels)\n",
        "    d_loss_fake = Discriminator.train_on_batch(generated_images, fake_labels)\n",
        "    d_loss = 0.5 * np.add(d_loss_real, d_loss_fake)\n",
        "\n",
        "    # Train the discriminator\n",
        "    sampled_labels = to_categorical(np.random.randint(0, condition_dim, batch_size).reshape(-1, 1), num_classes=condition_dim)\n",
        "    g_loss = Gan.train_on_batch([random_latent_vectors,  sampled_labels], valid_labels)"
      ],
      "execution_count": 112,
      "outputs": [
        {
          "output_type": "stream",
          "text": [
            "100%|██████████| 10000/10000 [07:09<00:00, 23.27it/s]\n"
          ],
          "name": "stderr"
        }
      ]
    },
    {
      "metadata": {
        "id": "XvlRUjQp5PGn",
        "colab_type": "code",
        "outputId": "ea775e2f-d56e-4f98-c6de-7c28b1e8242b",
        "colab": {
          "base_uri": "https://localhost:8080/",
          "height": 286
        }
      },
      "cell_type": "code",
      "source": [
        "random_latent_vectors = np.random.normal(0, 1, (1, latent_dim))\n",
        "condition = np.array(to_categorical([5], 10))\n",
        "gen_image = Generator.predict([random_latent_vectors, condition])[0][0]\n",
        "\n",
        "any_gen_image = np.array(gen_image*127.5+127.5,int)\n",
        "plt.imshow(any_gen_image)"
      ],
      "execution_count": 142,
      "outputs": [
        {
          "output_type": "execute_result",
          "data": {
            "text/plain": [
              "<matplotlib.image.AxesImage at 0x7fe03fd3d080>"
            ]
          },
          "metadata": {
            "tags": []
          },
          "execution_count": 142
        },
        {
          "output_type": "display_data",
          "data": {
            "image/png": "[encoded data removed]",
            "text/plain": [
              "<Figure size 432x288 with 1 Axes>"
            ]
          },
          "metadata": {
            "tags": []
          }
        }
      ]
    }
  ]
}